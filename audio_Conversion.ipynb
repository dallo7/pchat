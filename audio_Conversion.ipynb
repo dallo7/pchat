{
  "nbformat": 4,
  "nbformat_minor": 0,
  "metadata": {
    "colab": {
      "provenance": [],
      "authorship_tag": "ABX9TyN1WKc32DqSE4ZDr9QTO5q8",
      "include_colab_link": true
    },
    "kernelspec": {
      "name": "python3",
      "display_name": "Python 3"
    },
    "language_info": {
      "name": "python"
    }
  },
  "cells": [
    {
      "cell_type": "markdown",
      "metadata": {
        "id": "view-in-github",
        "colab_type": "text"
      },
      "source": [
        "<a href=\"https://colab.research.google.com/github/dallo7/pchat/blob/master/audio_Conversion.ipynb\" target=\"_parent\"><img src=\"https://colab.research.google.com/assets/colab-badge.svg\" alt=\"Open In Colab\"/></a>"
      ]
    },
    {
      "cell_type": "code",
      "source": [
        "\n",
        "from IPython.display import Javascript\n",
        "from google.colab import output\n",
        "from base64 import b64decode\n",
        "\n",
        "RECORD = \"\"\"\n",
        "const sleep  = time => new Promise(resolve => setTimeout(resolve, time))\n",
        "const b2text = blob => new Promise(resolve => {\n",
        "  const reader = new FileReader()\n",
        "  reader.onloadend = e => resolve(e.srcElement.result)\n",
        "  reader.readAsDataURL(blob)\n",
        "})\n",
        "var record = time => new Promise(async resolve => {\n",
        "  stream = await navigator.mediaDevices.getUserMedia({ audio: true })\n",
        "  recorder = new MediaRecorder(stream)\n",
        "  chunks = []\n",
        "  recorder.ondataavailable = e => chunks.push(e.data)\n",
        "  recorder.start()\n",
        "  await sleep(time)\n",
        "  recorder.onstop = async ()=>{\n",
        "    blob = new Blob(chunks)\n",
        "    text = await b2text(blob)\n",
        "    resolve(text)\n",
        "  }\n",
        "  recorder.stop()\n",
        "})\n",
        "\"\"\"\n",
        "\n",
        "def record(sec=3):\n",
        "  print(\"Speak Now...\")\n",
        "  display(Javascript(RECORD))\n",
        "  s = output.eval_js('record(%d)' % (sec*1000))\n",
        "  print(\"Done Recording !\")\n",
        "  b = b64decode(s.split(',')[1])\n",
        "  with open('audio.wav','wb') as f:\n",
        "    f.write(b)\n",
        "    return b"
      ],
      "metadata": {
        "id": "5i1h1jO1ZDEX"
      },
      "execution_count": null,
      "outputs": []
    },
    {
      "cell_type": "code",
      "source": [
        "pip install pydub"
      ],
      "metadata": {
        "colab": {
          "base_uri": "https://localhost:8080/"
        },
        "id": "oqjctbcBeECk",
        "outputId": "a445c444-63ba-401d-9b8a-dc2621ddb467"
      },
      "execution_count": null,
      "outputs": [
        {
          "output_type": "stream",
          "name": "stdout",
          "text": [
            "Looking in indexes: https://pypi.org/simple, https://us-python.pkg.dev/colab-wheels/public/simple/\n",
            "Collecting pydub\n",
            "  Downloading pydub-0.25.1-py2.py3-none-any.whl (32 kB)\n",
            "Installing collected packages: pydub\n",
            "Successfully installed pydub-0.25.1\n"
          ]
        }
      ]
    },
    {
      "cell_type": "code",
      "source": [
        "import io\n",
        "from pydub import AudioSegment\n",
        "\n",
        "def byte_wav_conversion(convert):\n",
        "  s = io.BytesIO(convert)\n",
        "  audio = AudioSegment.from_raw(s, sample_width = 2, frame_rate = 1600, channels=2).export('/content/audio.wav', format='wav')\n",
        "  return audio\n",
        "\n",
        "byte_wav_conversion(record())"
      ],
      "metadata": {
        "colab": {
          "base_uri": "https://localhost:8080/",
          "height": 69
        },
        "id": "N93xn7n6cdpj",
        "outputId": "3a194739-511e-4e15-a466-d069d1bf7da1"
      },
      "execution_count": null,
      "outputs": [
        {
          "output_type": "stream",
          "name": "stdout",
          "text": [
            "Speak Now...\n"
          ]
        },
        {
          "output_type": "display_data",
          "data": {
            "text/plain": [
              "<IPython.core.display.Javascript object>"
            ],
            "application/javascript": [
              "\n",
              "const sleep  = time => new Promise(resolve => setTimeout(resolve, time))\n",
              "const b2text = blob => new Promise(resolve => {\n",
              "  const reader = new FileReader()\n",
              "  reader.onloadend = e => resolve(e.srcElement.result)\n",
              "  reader.readAsDataURL(blob)\n",
              "})\n",
              "var record = time => new Promise(async resolve => {\n",
              "  stream = await navigator.mediaDevices.getUserMedia({ audio: true })\n",
              "  recorder = new MediaRecorder(stream)\n",
              "  chunks = []\n",
              "  recorder.ondataavailable = e => chunks.push(e.data)\n",
              "  recorder.start()\n",
              "  await sleep(time)\n",
              "  recorder.onstop = async ()=>{\n",
              "    blob = new Blob(chunks)\n",
              "    text = await b2text(blob)\n",
              "    resolve(text)\n",
              "  }\n",
              "  recorder.stop()\n",
              "})\n"
            ]
          },
          "metadata": {}
        },
        {
          "output_type": "stream",
          "name": "stdout",
          "text": [
            "Done Recording !\n"
          ]
        },
        {
          "output_type": "execute_result",
          "data": {
            "text/plain": [
              "<_io.BufferedRandom name='/content/audio.wav'>"
            ]
          },
          "metadata": {},
          "execution_count": 14
        }
      ]
    },
    {
      "cell_type": "code",
      "execution_count": null,
      "metadata": {
        "id": "R-vvPVZKWFmE",
        "colab": {
          "base_uri": "https://localhost:8080/",
          "height": 235
        },
        "outputId": "b45595d9-6f89-4e99-ad35-53ac30225a43"
      },
      "outputs": [
        {
          "output_type": "error",
          "ename": "AttributeError",
          "evalue": "ignored",
          "traceback": [
            "\u001b[0;31m---------------------------------------------------------------------------\u001b[0m",
            "\u001b[0;31mAttributeError\u001b[0m                            Traceback (most recent call last)",
            "\u001b[0;32m<ipython-input-28-ced958ea2281>\u001b[0m in \u001b[0;36m<module>\u001b[0;34m\u001b[0m\n\u001b[1;32m     31\u001b[0m \u001b[0;34m\u001b[0m\u001b[0m\n\u001b[1;32m     32\u001b[0m \u001b[0;34m\u001b[0m\u001b[0m\n\u001b[0;32m---> 33\u001b[0;31m \u001b[0mlogits\u001b[0m \u001b[0;34m=\u001b[0m \u001b[0mmodel\u001b[0m\u001b[0;34m(\u001b[0m\u001b[0mfilename\u001b[0m\u001b[0;34m.\u001b[0m\u001b[0minput_values\u001b[0m\u001b[0;34m.\u001b[0m\u001b[0mto\u001b[0m\u001b[0;34m(\u001b[0m\u001b[0;34m\"cuda\"\u001b[0m\u001b[0;34m)\u001b[0m\u001b[0;34m)\u001b[0m\u001b[0;34m.\u001b[0m\u001b[0mlogits\u001b[0m\u001b[0;34m\u001b[0m\u001b[0;34m\u001b[0m\u001b[0m\n\u001b[0m\u001b[1;32m     34\u001b[0m \u001b[0;34m\u001b[0m\u001b[0m\n\u001b[1;32m     35\u001b[0m \u001b[0mpred_ids\u001b[0m \u001b[0;34m=\u001b[0m \u001b[0mtorch\u001b[0m\u001b[0;34m.\u001b[0m\u001b[0margmax\u001b[0m\u001b[0;34m(\u001b[0m\u001b[0mlogits\u001b[0m\u001b[0;34m,\u001b[0m \u001b[0mdim\u001b[0m\u001b[0;34m=\u001b[0m\u001b[0;34m-\u001b[0m\u001b[0;36m1\u001b[0m\u001b[0;34m)\u001b[0m\u001b[0;34m[\u001b[0m\u001b[0;36m0\u001b[0m\u001b[0;34m]\u001b[0m\u001b[0;34m\u001b[0m\u001b[0;34m\u001b[0m\u001b[0m\n",
            "\u001b[0;31mAttributeError\u001b[0m: 'str' object has no attribute 'input_values'"
          ]
        }
      ],
      "source": [
        "import wave\n",
        "import pyaudio\n",
        "from transformers import Wav2Vec2ForCTC\n",
        "from transformers import AutoModelForCTC, Wav2Vec2Processor\n",
        "from transformers import Trainer\n",
        "from transformers import TrainingArguments\n",
        "from transformers import Wav2Vec2ForCTC\n",
        "import torch\n",
        "from dataclasses import dataclass, field\n",
        "from typing import Any, Dict, List, Optional, Union\n",
        "import IPython.display as ipd\n",
        "import numpy as np\n",
        "import random\n",
        "from transformers import Wav2Vec2Processor\n",
        "from transformers import Wav2Vec2FeatureExtractor\n",
        "from transformers import Wav2Vec2CTCTokenizer\n",
        "from datasets import load_dataset, load_metric, Audio\n",
        "from datasets import ClassLabel\n",
        "import json\n",
        "import re\n",
        "\n",
        "filename = \"/content/audio.wav\"\n",
        "\n",
        "# Trained model speech to text\n",
        "\n",
        "model = Wav2Vec2ForCTC.from_pretrained(\"Chituyi/wav2vec2-large-xls-r-300m-tr-colab\")\n",
        "\n",
        "processor = Wav2Vec2Processor.from_pretrained(\"Chituyi/wav2vec2-large-xls-r-300m-tr-colab\")\n",
        "\n",
        "# process prediction tokens\n",
        "\n",
        "\n",
        "logits = model(filename.input_values.to(\"cuda\")).logits\n",
        "\n",
        "pred_ids = torch.argmax(logits, dim=-1)[0]\n",
        "\n",
        "# make predictions\n",
        "\n",
        "print(processor.decode(pred_ids))"
      ]
    },
    {
      "cell_type": "code",
      "source": [
        "# Play sound\n",
        "\n",
        "filename = \"/content/audio.wav\"\n",
        "\n",
        "import IPython\n",
        "IPython.display.Audio(filename)\n",
        "\n"
      ],
      "metadata": {
        "id": "JXM9INL7sM7q",
        "colab": {
          "base_uri": "https://localhost:8080/",
          "height": 76
        },
        "outputId": "3e30004b-bbb9-47e1-f15a-7fdee01f7182"
      },
      "execution_count": null,
      "outputs": [
        {
          "output_type": "execute_result",
          "data": {
            "text/plain": [
              "<IPython.lib.display.Audio object>"
            ],
            "text/html": [
              "\n",
              "                <audio  controls=\"controls\" >\n",
              "                    <source src=\"data:audio/x-wav;base64,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\" type=\"audio/x-wav\" />\n",
              "                    Your browser does not support the audio element.\n",
              "                </audio>\n",
              "              "
            ]
          },
          "metadata": {},
          "execution_count": 26
        }
      ]
    },
    {
      "cell_type": "code",
      "source": [
        "import pyttsx3\n",
        "\n",
        "engine = pyttsx3.init()\n",
        "voices = engine.getProperty('voices')\n",
        "engine.setProperty('voice', voices[1].id)\n",
        "# print(voices[1].id)\n",
        "engine.setProperty('rate', 150)\n",
        "# engine.say(\"Hello, How are you ?\")\n",
        "engine.runAndWait()\n",
        "\n",
        "def speak(str):\n",
        "    engine.say(str)\n",
        "    engine.runAndWait()\n",
        "\n",
        "speak(filename)\n",
        "# speak(processor.decode(pred_ids))"
      ],
      "metadata": {
        "colab": {
          "base_uri": "https://localhost:8080/"
        },
        "id": "GoYzEgCRY_tM",
        "outputId": "5f8c7d52-fbaa-46e0-a308-3bd090372e90"
      },
      "execution_count": null,
      "outputs": [
        {
          "output_type": "execute_result",
          "data": {
            "text/plain": [
              "NoneType"
            ]
          },
          "metadata": {},
          "execution_count": 9
        }
      ]
    },
    {
      "cell_type": "code",
      "source": [
        "pip install pyttsx3"
      ],
      "metadata": {
        "id": "GmgfmeAKtFFn"
      },
      "execution_count": null,
      "outputs": []
    },
    {
      "cell_type": "code",
      "source": [
        "!apt install espeak"
      ],
      "metadata": {
        "id": "gkXCmUcsuTAz"
      },
      "execution_count": null,
      "outputs": []
    },
    {
      "cell_type": "code",
      "source": [
        "de = record()"
      ],
      "metadata": {
        "colab": {
          "base_uri": "https://localhost:8080/",
          "height": 52
        },
        "id": "hYWRDEahseoP",
        "outputId": "b18f7f3c-b5a1-4fbb-d8ba-d250b763d331"
      },
      "execution_count": null,
      "outputs": [
        {
          "output_type": "stream",
          "name": "stdout",
          "text": [
            "Speak Now...\n"
          ]
        },
        {
          "output_type": "display_data",
          "data": {
            "text/plain": [
              "<IPython.core.display.Javascript object>"
            ],
            "application/javascript": [
              "\n",
              "const sleep  = time => new Promise(resolve => setTimeout(resolve, time))\n",
              "const b2text = blob => new Promise(resolve => {\n",
              "  const reader = new FileReader()\n",
              "  reader.onloadend = e => resolve(e.srcElement.result)\n",
              "  reader.readAsDataURL(blob)\n",
              "})\n",
              "var record = time => new Promise(async resolve => {\n",
              "  stream = await navigator.mediaDevices.getUserMedia({ audio: true })\n",
              "  recorder = new MediaRecorder(stream)\n",
              "  chunks = []\n",
              "  recorder.ondataavailable = e => chunks.push(e.data)\n",
              "  recorder.start()\n",
              "  await sleep(time)\n",
              "  recorder.onstop = async ()=>{\n",
              "    blob = new Blob(chunks)\n",
              "    text = await b2text(blob)\n",
              "    resolve(text)\n",
              "  }\n",
              "  recorder.stop()\n",
              "})\n"
            ]
          },
          "metadata": {}
        },
        {
          "output_type": "stream",
          "name": "stdout",
          "text": [
            "Done Recording !\n"
          ]
        }
      ]
    },
    {
      "cell_type": "code",
      "source": [
        "de"
      ],
      "metadata": {
        "id": "x0cv_QFWTgbr"
      },
      "execution_count": null,
      "outputs": []
    },
    {
      "cell_type": "code",
      "source": [
        "type(de)"
      ],
      "metadata": {
        "colab": {
          "base_uri": "https://localhost:8080/"
        },
        "id": "UMnchUmw4ScO",
        "outputId": "108a565e-c513-46bc-8d0c-8744ed317e5b"
      },
      "execution_count": null,
      "outputs": [
        {
          "output_type": "execute_result",
          "data": {
            "text/plain": [
              "bytes"
            ]
          },
          "metadata": {},
          "execution_count": 36
        }
      ]
    },
    {
      "cell_type": "code",
      "source": [
        "# pip install pydub"
      ],
      "metadata": {
        "id": "cojTTP75eZM0"
      },
      "execution_count": null,
      "outputs": []
    },
    {
      "cell_type": "code",
      "source": [
        "type(audio)"
      ],
      "metadata": {
        "colab": {
          "base_uri": "https://localhost:8080/"
        },
        "id": "avThKc1uhoaE",
        "outputId": "b8a89a25-1e39-49e3-aa89-e0e531d081d1"
      },
      "execution_count": null,
      "outputs": [
        {
          "output_type": "execute_result",
          "data": {
            "text/plain": [
              "pyaudio.PyAudio"
            ]
          },
          "metadata": {},
          "execution_count": 14
        }
      ]
    },
    {
      "cell_type": "code",
      "source": [
        "!sudo apt-get update -y\n",
        "!sudo apt-get install python3.8"
      ],
      "metadata": {
        "id": "zxEMMLdniGhP",
        "colab": {
          "base_uri": "https://localhost:8080/"
        },
        "outputId": "16f05ab0-f67c-4f26-88c0-ea55aadc7523"
      },
      "execution_count": null,
      "outputs": [
        {
          "output_type": "stream",
          "name": "stdout",
          "text": [
            "\r0% [Working]\r            \rGet:1 http://security.ubuntu.com/ubuntu focal-security InRelease [114 kB]\n",
            "\r0% [Connecting to archive.ubuntu.com (185.125.190.39)] [1 InRelease 14.2 kB/114\r                                                                               \rGet:2 https://cloud.r-project.org/bin/linux/ubuntu focal-cran40/ InRelease [3,622 B]\n",
            "\r0% [Connecting to archive.ubuntu.com (185.125.190.39)] [1 InRelease 75.0 kB/114\r0% [Connecting to archive.ubuntu.com (185.125.190.39)] [1 InRelease 114 kB/114 \r0% [Connecting to archive.ubuntu.com (185.125.190.39)] [Waiting for headers] [C\r                                                                               \rHit:3 http://archive.ubuntu.com/ubuntu focal InRelease\n",
            "Hit:4 http://ppa.launchpad.net/c2d4u.team/c2d4u4.0+/ubuntu focal InRelease\n",
            "Ign:5 https://developer.download.nvidia.com/compute/machine-learning/repos/ubuntu2004/x86_64  InRelease\n",
            "Get:6 http://archive.ubuntu.com/ubuntu focal-updates InRelease [114 kB]\n",
            "Hit:7 https://developer.download.nvidia.com/compute/cuda/repos/ubuntu2004/x86_64  InRelease\n",
            "Hit:8 https://developer.download.nvidia.com/compute/machine-learning/repos/ubuntu2004/x86_64  Release\n",
            "Hit:9 http://ppa.launchpad.net/cran/libgit2/ubuntu focal InRelease\n",
            "Get:10 http://security.ubuntu.com/ubuntu focal-security/universe amd64 Packages [988 kB]\n",
            "Hit:11 http://ppa.launchpad.net/deadsnakes/ppa/ubuntu focal InRelease\n",
            "Get:12 http://security.ubuntu.com/ubuntu focal-security/main amd64 Packages [2,442 kB]\n",
            "Get:13 http://security.ubuntu.com/ubuntu focal-security/restricted amd64 Packages [1,882 kB]\n",
            "Get:14 http://archive.ubuntu.com/ubuntu focal-backports InRelease [108 kB]\n",
            "Hit:15 http://ppa.launchpad.net/graphics-drivers/ppa/ubuntu focal InRelease\n",
            "Get:17 http://archive.ubuntu.com/ubuntu focal-updates/universe amd64 Packages [1,290 kB]\n",
            "Get:18 http://archive.ubuntu.com/ubuntu focal-updates/restricted amd64 Packages [2,009 kB]\n",
            "Get:19 http://archive.ubuntu.com/ubuntu focal-updates/main amd64 Packages [2,920 kB]\n",
            "Fetched 11.9 MB in 3s (4,351 kB/s)\n",
            "Reading package lists... Done\n",
            "Reading package lists... Done\n",
            "Building dependency tree       \n",
            "Reading state information... Done\n",
            "python3.8 is already the newest version (3.8.10-0ubuntu1~20.04.6).\n",
            "0 upgraded, 0 newly installed, 0 to remove and 27 not upgraded.\n"
          ]
        }
      ]
    },
    {
      "cell_type": "code",
      "source": [
        "!apt install libasound2-dev portaudio19-dev libportaudio2 libportaudiocpp0 ffmpeg"
      ],
      "metadata": {
        "id": "rnu5AxfQiMoJ",
        "colab": {
          "base_uri": "https://localhost:8080/"
        },
        "outputId": "1e6c4687-7309-4aa4-9910-86e73bc96d08"
      },
      "execution_count": null,
      "outputs": [
        {
          "output_type": "stream",
          "name": "stdout",
          "text": [
            "Reading package lists... Done\n",
            "Building dependency tree       \n",
            "Reading state information... Done\n",
            "libportaudio2 is already the newest version (19.6.0-1build1).\n",
            "libportaudio2 set to manually installed.\n",
            "libasound2-dev is already the newest version (1.2.2-2.1ubuntu2.5).\n",
            "ffmpeg is already the newest version (7:4.2.7-0ubuntu0.1).\n",
            "Suggested packages:\n",
            "  portaudio19-doc\n",
            "The following NEW packages will be installed:\n",
            "  libportaudiocpp0 portaudio19-dev\n",
            "0 upgraded, 2 newly installed, 0 to remove and 27 not upgraded.\n",
            "Need to get 122 kB of archives.\n",
            "After this operation, 702 kB of additional disk space will be used.\n",
            "Get:1 http://archive.ubuntu.com/ubuntu focal/universe amd64 libportaudiocpp0 amd64 19.6.0-1build1 [16.1 kB]\n",
            "Get:2 http://archive.ubuntu.com/ubuntu focal/universe amd64 portaudio19-dev amd64 19.6.0-1build1 [106 kB]\n",
            "Fetched 122 kB in 0s (683 kB/s)\n",
            "Selecting previously unselected package libportaudiocpp0:amd64.\n",
            "(Reading database ... 129824 files and directories currently installed.)\n",
            "Preparing to unpack .../libportaudiocpp0_19.6.0-1build1_amd64.deb ...\n",
            "Unpacking libportaudiocpp0:amd64 (19.6.0-1build1) ...\n",
            "Selecting previously unselected package portaudio19-dev:amd64.\n",
            "Preparing to unpack .../portaudio19-dev_19.6.0-1build1_amd64.deb ...\n",
            "Unpacking portaudio19-dev:amd64 (19.6.0-1build1) ...\n",
            "Setting up libportaudiocpp0:amd64 (19.6.0-1build1) ...\n",
            "Setting up portaudio19-dev:amd64 (19.6.0-1build1) ...\n",
            "Processing triggers for libc-bin (2.31-0ubuntu9.9) ...\n"
          ]
        }
      ]
    },
    {
      "cell_type": "code",
      "source": [
        "!pip install PyAudio"
      ],
      "metadata": {
        "id": "wqDw2NeKjIHX",
        "colab": {
          "base_uri": "https://localhost:8080/"
        },
        "outputId": "609ca005-1a8d-49c7-b94c-ea99b33c71b1"
      },
      "execution_count": null,
      "outputs": [
        {
          "output_type": "stream",
          "name": "stdout",
          "text": [
            "Looking in indexes: https://pypi.org/simple, https://us-python.pkg.dev/colab-wheels/public/simple/\n",
            "Collecting PyAudio\n",
            "  Downloading PyAudio-0.2.13.tar.gz (46 kB)\n",
            "\u001b[2K     \u001b[90m━━━━━━━━━━━━━━━━━━━━━━━━━━━━━━━━━━━━━━━━\u001b[0m \u001b[32m46.8/46.8 KB\u001b[0m \u001b[31m1.5 MB/s\u001b[0m eta \u001b[36m0:00:00\u001b[0m\n",
            "\u001b[?25h  Installing build dependencies ... \u001b[?25l\u001b[?25hdone\n",
            "  Getting requirements to build wheel ... \u001b[?25l\u001b[?25hdone\n",
            "  Preparing metadata (pyproject.toml) ... \u001b[?25l\u001b[?25hdone\n",
            "Building wheels for collected packages: PyAudio\n",
            "  Building wheel for PyAudio (pyproject.toml) ... \u001b[?25l\u001b[?25hdone\n",
            "  Created wheel for PyAudio: filename=PyAudio-0.2.13-cp38-cp38-linux_x86_64.whl size=69689 sha256=92c288f08d1331efa5732ff36bb6ed43b31534d8fa980835b649ed8e0f7a33e5\n",
            "  Stored in directory: /root/.cache/pip/wheels/c9/64/0b/9a483698792349f565ecc45c5ee3f1efb2ce79464f6d9daf53\n",
            "Successfully built PyAudio\n",
            "Installing collected packages: PyAudio\n",
            "Successfully installed PyAudio-0.2.13\n"
          ]
        }
      ]
    },
    {
      "cell_type": "code",
      "source": [
        "!pip install transformers"
      ],
      "metadata": {
        "id": "9Lbi1pSnw0vm",
        "colab": {
          "base_uri": "https://localhost:8080/"
        },
        "outputId": "a0de6fa6-f2bc-454e-ffb7-0a1c108ee48a"
      },
      "execution_count": null,
      "outputs": [
        {
          "output_type": "stream",
          "name": "stdout",
          "text": [
            "Looking in indexes: https://pypi.org/simple, https://us-python.pkg.dev/colab-wheels/public/simple/\n",
            "Collecting transformers\n",
            "  Downloading transformers-4.26.0-py3-none-any.whl (6.3 MB)\n",
            "\u001b[2K     \u001b[90m━━━━━━━━━━━━━━━━━━━━━━━━━━━━━━━━━━━━━━━━\u001b[0m \u001b[32m6.3/6.3 MB\u001b[0m \u001b[31m59.2 MB/s\u001b[0m eta \u001b[36m0:00:00\u001b[0m\n",
            "\u001b[?25hRequirement already satisfied: packaging>=20.0 in /usr/local/lib/python3.8/dist-packages (from transformers) (21.3)\n",
            "Requirement already satisfied: requests in /usr/local/lib/python3.8/dist-packages (from transformers) (2.25.1)\n",
            "Collecting huggingface-hub<1.0,>=0.11.0\n",
            "  Downloading huggingface_hub-0.12.0-py3-none-any.whl (190 kB)\n",
            "\u001b[2K     \u001b[90m━━━━━━━━━━━━━━━━━━━━━━━━━━━━━━━━━━━━━━\u001b[0m \u001b[32m190.3/190.3 KB\u001b[0m \u001b[31m18.4 MB/s\u001b[0m eta \u001b[36m0:00:00\u001b[0m\n",
            "\u001b[?25hRequirement already satisfied: pyyaml>=5.1 in /usr/local/lib/python3.8/dist-packages (from transformers) (6.0)\n",
            "Requirement already satisfied: numpy>=1.17 in /usr/local/lib/python3.8/dist-packages (from transformers) (1.21.6)\n",
            "Requirement already satisfied: tqdm>=4.27 in /usr/local/lib/python3.8/dist-packages (from transformers) (4.64.1)\n",
            "Requirement already satisfied: regex!=2019.12.17 in /usr/local/lib/python3.8/dist-packages (from transformers) (2022.6.2)\n",
            "Collecting tokenizers!=0.11.3,<0.14,>=0.11.1\n",
            "  Downloading tokenizers-0.13.2-cp38-cp38-manylinux_2_17_x86_64.manylinux2014_x86_64.whl (7.6 MB)\n",
            "\u001b[2K     \u001b[90m━━━━━━━━━━━━━━━━━━━━━━━━━━━━━━━━━━━━━━━━\u001b[0m \u001b[32m7.6/7.6 MB\u001b[0m \u001b[31m74.6 MB/s\u001b[0m eta \u001b[36m0:00:00\u001b[0m\n",
            "\u001b[?25hRequirement already satisfied: filelock in /usr/local/lib/python3.8/dist-packages (from transformers) (3.9.0)\n",
            "Requirement already satisfied: typing-extensions>=3.7.4.3 in /usr/local/lib/python3.8/dist-packages (from huggingface-hub<1.0,>=0.11.0->transformers) (4.4.0)\n",
            "Requirement already satisfied: pyparsing!=3.0.5,>=2.0.2 in /usr/local/lib/python3.8/dist-packages (from packaging>=20.0->transformers) (3.0.9)\n",
            "Requirement already satisfied: chardet<5,>=3.0.2 in /usr/local/lib/python3.8/dist-packages (from requests->transformers) (4.0.0)\n",
            "Requirement already satisfied: idna<3,>=2.5 in /usr/local/lib/python3.8/dist-packages (from requests->transformers) (2.10)\n",
            "Requirement already satisfied: certifi>=2017.4.17 in /usr/local/lib/python3.8/dist-packages (from requests->transformers) (2022.12.7)\n",
            "Requirement already satisfied: urllib3<1.27,>=1.21.1 in /usr/local/lib/python3.8/dist-packages (from requests->transformers) (1.24.3)\n",
            "Installing collected packages: tokenizers, huggingface-hub, transformers\n",
            "Successfully installed huggingface-hub-0.12.0 tokenizers-0.13.2 transformers-4.26.0\n"
          ]
        }
      ]
    },
    {
      "cell_type": "code",
      "source": [
        "!pip install wave pyttsx"
      ],
      "metadata": {
        "id": "ESzG0NJMxPYr",
        "colab": {
          "base_uri": "https://localhost:8080/",
          "height": 399
        },
        "outputId": "2553f64e-29de-495a-8e1e-96e166c2b95d"
      },
      "execution_count": null,
      "outputs": [
        {
          "output_type": "stream",
          "name": "stdout",
          "text": [
            "Looking in indexes: https://pypi.org/simple, https://us-python.pkg.dev/colab-wheels/public/simple/\n",
            "Collecting wave\n",
            "  Downloading Wave-0.0.2.zip (38 kB)\n",
            "  Preparing metadata (setup.py) ... \u001b[?25l\u001b[?25hdone\n",
            "Collecting pyttsx\n",
            "  Downloading pyttsx-1.1.tar.gz (23 kB)\n",
            "  Preparing metadata (setup.py) ... \u001b[?25l\u001b[?25hdone\n",
            "Building wheels for collected packages: wave, pyttsx\n",
            "  Building wheel for wave (setup.py) ... \u001b[?25l\u001b[?25hdone\n",
            "  Created wheel for wave: filename=Wave-0.0.2-py3-none-any.whl size=1239 sha256=74f78b1f387350fd390cd8ed69f2b37b7380e6ee4e431fddb20727a4013c056f\n",
            "  Stored in directory: /root/.cache/pip/wheels/02/e0/7e/275772569578f5a3ec1dd8f78713e5f05aab5ea9b0d4fc3a74\n",
            "  Building wheel for pyttsx (setup.py) ... \u001b[?25l\u001b[?25hdone\n",
            "  Created wheel for pyttsx: filename=pyttsx-1.1-py3-none-any.whl size=22452 sha256=5258ab996ef64aaaa5d12b5eee35c3a1ed81f071d524f9486a9722134b0f681f\n",
            "  Stored in directory: /root/.cache/pip/wheels/02/66/0e/4be6349f93be182fe710a3a0cf9f855cee3e96a478944d2b75\n",
            "Successfully built wave pyttsx\n",
            "Installing collected packages: wave, pyttsx\n",
            "Successfully installed pyttsx-1.1 wave-0.0.2\n"
          ]
        },
        {
          "output_type": "display_data",
          "data": {
            "application/vnd.colab-display-data+json": {
              "pip_warning": {
                "packages": [
                  "wave"
                ]
              }
            }
          },
          "metadata": {}
        }
      ]
    },
    {
      "cell_type": "code",
      "source": [
        "!pip install datasets"
      ],
      "metadata": {
        "id": "gFO2Hem2yNij",
        "colab": {
          "base_uri": "https://localhost:8080/"
        },
        "outputId": "5be32c0a-845e-4a7f-be85-f58500474732"
      },
      "execution_count": null,
      "outputs": [
        {
          "output_type": "stream",
          "name": "stdout",
          "text": [
            "Looking in indexes: https://pypi.org/simple, https://us-python.pkg.dev/colab-wheels/public/simple/\n",
            "Collecting datasets\n",
            "  Downloading datasets-2.9.0-py3-none-any.whl (462 kB)\n",
            "\u001b[2K     \u001b[90m━━━━━━━━━━━━━━━━━━━━━━━━━━━━━━━━━━━━━━\u001b[0m \u001b[32m462.8/462.8 KB\u001b[0m \u001b[31m19.5 MB/s\u001b[0m eta \u001b[36m0:00:00\u001b[0m\n",
            "\u001b[?25hCollecting responses<0.19\n",
            "  Downloading responses-0.18.0-py3-none-any.whl (38 kB)\n",
            "Collecting xxhash\n",
            "  Downloading xxhash-3.2.0-cp38-cp38-manylinux_2_17_x86_64.manylinux2014_x86_64.whl (213 kB)\n",
            "\u001b[2K     \u001b[90m━━━━━━━━━━━━━━━━━━━━━━━━━━━━━━━━━━━━━━\u001b[0m \u001b[32m213.0/213.0 KB\u001b[0m \u001b[31m22.3 MB/s\u001b[0m eta \u001b[36m0:00:00\u001b[0m\n",
            "\u001b[?25hRequirement already satisfied: tqdm>=4.62.1 in /usr/local/lib/python3.8/dist-packages (from datasets) (4.64.1)\n",
            "Requirement already satisfied: requests>=2.19.0 in /usr/local/lib/python3.8/dist-packages (from datasets) (2.25.1)\n",
            "Requirement already satisfied: dill<0.3.7 in /usr/local/lib/python3.8/dist-packages (from datasets) (0.3.6)\n",
            "Collecting multiprocess\n",
            "  Downloading multiprocess-0.70.14-py38-none-any.whl (132 kB)\n",
            "\u001b[2K     \u001b[90m━━━━━━━━━━━━━━━━━━━━━━━━━━━━━━━━━━━━━━\u001b[0m \u001b[32m132.0/132.0 KB\u001b[0m \u001b[31m11.9 MB/s\u001b[0m eta \u001b[36m0:00:00\u001b[0m\n",
            "\u001b[?25hRequirement already satisfied: fsspec[http]>=2021.11.1 in /usr/local/lib/python3.8/dist-packages (from datasets) (2022.11.0)\n",
            "Requirement already satisfied: numpy>=1.17 in /usr/local/lib/python3.8/dist-packages (from datasets) (1.21.6)\n",
            "Requirement already satisfied: aiohttp in /usr/local/lib/python3.8/dist-packages (from datasets) (3.8.3)\n",
            "Requirement already satisfied: huggingface-hub<1.0.0,>=0.2.0 in /usr/local/lib/python3.8/dist-packages (from datasets) (0.12.0)\n",
            "Requirement already satisfied: packaging in /usr/local/lib/python3.8/dist-packages (from datasets) (21.3)\n",
            "Requirement already satisfied: pyyaml>=5.1 in /usr/local/lib/python3.8/dist-packages (from datasets) (6.0)\n",
            "Requirement already satisfied: pandas in /usr/local/lib/python3.8/dist-packages (from datasets) (1.3.5)\n",
            "Requirement already satisfied: pyarrow>=6.0.0 in /usr/local/lib/python3.8/dist-packages (from datasets) (9.0.0)\n",
            "Requirement already satisfied: async-timeout<5.0,>=4.0.0a3 in /usr/local/lib/python3.8/dist-packages (from aiohttp->datasets) (4.0.2)\n",
            "Requirement already satisfied: charset-normalizer<3.0,>=2.0 in /usr/local/lib/python3.8/dist-packages (from aiohttp->datasets) (2.1.1)\n",
            "Requirement already satisfied: attrs>=17.3.0 in /usr/local/lib/python3.8/dist-packages (from aiohttp->datasets) (22.2.0)\n",
            "Requirement already satisfied: frozenlist>=1.1.1 in /usr/local/lib/python3.8/dist-packages (from aiohttp->datasets) (1.3.3)\n",
            "Requirement already satisfied: aiosignal>=1.1.2 in /usr/local/lib/python3.8/dist-packages (from aiohttp->datasets) (1.3.1)\n",
            "Requirement already satisfied: yarl<2.0,>=1.0 in /usr/local/lib/python3.8/dist-packages (from aiohttp->datasets) (1.8.2)\n",
            "Requirement already satisfied: multidict<7.0,>=4.5 in /usr/local/lib/python3.8/dist-packages (from aiohttp->datasets) (6.0.4)\n",
            "Requirement already satisfied: filelock in /usr/local/lib/python3.8/dist-packages (from huggingface-hub<1.0.0,>=0.2.0->datasets) (3.9.0)\n",
            "Requirement already satisfied: typing-extensions>=3.7.4.3 in /usr/local/lib/python3.8/dist-packages (from huggingface-hub<1.0.0,>=0.2.0->datasets) (4.4.0)\n",
            "Requirement already satisfied: pyparsing!=3.0.5,>=2.0.2 in /usr/local/lib/python3.8/dist-packages (from packaging->datasets) (3.0.9)\n",
            "Requirement already satisfied: urllib3<1.27,>=1.21.1 in /usr/local/lib/python3.8/dist-packages (from requests>=2.19.0->datasets) (1.24.3)\n",
            "Requirement already satisfied: chardet<5,>=3.0.2 in /usr/local/lib/python3.8/dist-packages (from requests>=2.19.0->datasets) (4.0.0)\n",
            "Requirement already satisfied: certifi>=2017.4.17 in /usr/local/lib/python3.8/dist-packages (from requests>=2.19.0->datasets) (2022.12.7)\n",
            "Requirement already satisfied: idna<3,>=2.5 in /usr/local/lib/python3.8/dist-packages (from requests>=2.19.0->datasets) (2.10)\n",
            "Collecting urllib3<1.27,>=1.21.1\n",
            "  Downloading urllib3-1.26.14-py2.py3-none-any.whl (140 kB)\n",
            "\u001b[2K     \u001b[90m━━━━━━━━━━━━━━━━━━━━━━━━━━━━━━━━━━━━━━\u001b[0m \u001b[32m140.6/140.6 KB\u001b[0m \u001b[31m14.7 MB/s\u001b[0m eta \u001b[36m0:00:00\u001b[0m\n",
            "\u001b[?25hRequirement already satisfied: pytz>=2017.3 in /usr/local/lib/python3.8/dist-packages (from pandas->datasets) (2022.7)\n",
            "Requirement already satisfied: python-dateutil>=2.7.3 in /usr/local/lib/python3.8/dist-packages (from pandas->datasets) (2.8.2)\n",
            "Requirement already satisfied: six>=1.5 in /usr/local/lib/python3.8/dist-packages (from python-dateutil>=2.7.3->pandas->datasets) (1.15.0)\n",
            "Installing collected packages: xxhash, urllib3, multiprocess, responses, datasets\n",
            "  Attempting uninstall: urllib3\n",
            "    Found existing installation: urllib3 1.24.3\n",
            "    Uninstalling urllib3-1.24.3:\n",
            "      Successfully uninstalled urllib3-1.24.3\n",
            "Successfully installed datasets-2.9.0 multiprocess-0.70.14 responses-0.18.0 urllib3-1.26.14 xxhash-3.2.0\n"
          ]
        }
      ]
    }
  ]
}